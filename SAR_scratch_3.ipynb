{
  "nbformat": 4,
  "nbformat_minor": 0,
  "metadata": {
    "colab": {
      "name": "SAR scratch 3.ipynb",
      "provenance": [],
      "authorship_tag": "ABX9TyNxGoYWM+E5bXNrQV/Dn+9J",
      "include_colab_link": true
    },
    "kernelspec": {
      "name": "python3",
      "display_name": "Python 3"
    },
    "language_info": {
      "name": "python"
    }
  },
  "cells": [
    {
      "cell_type": "markdown",
      "metadata": {
        "id": "view-in-github",
        "colab_type": "text"
      },
      "source": [
        "<a href=\"https://colab.research.google.com/github/psukphranee/Python-Practice/blob/master/SAR_scratch_3.ipynb\" target=\"_parent\"><img src=\"https://colab.research.google.com/assets/colab-badge.svg\" alt=\"Open In Colab\"/></a>"
      ]
    },
    {
      "cell_type": "code",
      "execution_count": 1,
      "metadata": {
        "id": "iKrWic0yINvA"
      },
      "outputs": [],
      "source": [
        "import matplotlib.pyplot as plt\n",
        "import numpy as np\n",
        "import math\n",
        "import os\n",
        "import scipy.sparse as sp"
      ]
    },
    {
      "cell_type": "code",
      "source": [
        "def generate_LFM_Pulse(time_array, pulse_width=1, pulse_height=1, chirp_rate=1, carrier_frequency=100):\n",
        "  \n",
        "  #time ---------------\n",
        "  t = time_array#.reshape(1,-1) #turn into row vector\n",
        "\n",
        "  #pulse envelope  ---------------\n",
        "  A = pulse_height;\n",
        "  tau = pulse_width; \n",
        "  tau_half = tau/2;\n",
        "\n",
        "  chi = A * (np.abs((t-tau_half)/tau_half) <= 1);\n",
        "  #chi = generate_pulse_envelope(t, pulse_height, pulse_width);\n",
        "\n",
        "  #LFM  ---------------\n",
        "  # k = chirp_rate\n",
        "  # f_c = carrier_frequency\n",
        "\n",
        "  # #argument to be passed to exponenetial \n",
        "  # exp_arg = 2j*np.pi*(f_c*t + .5*k*(t**2))\n",
        "  # LFM = np.exp(exp_arg);\n",
        "\n",
        "  # pulse = chi*LFM\n",
        "  return chi\n",
        "\n",
        "def plot_pulse(time, pulse, fig, ax, **kwargs):\n",
        "  t=time;\n",
        "  pulse=pulse;\n",
        "\n",
        "  ax.plot(t, np.real(pulse), alpha=0.4, *kwargs)\n",
        "  plt.xlim([t[0],t[-1]])\n",
        "  plt.show()"
      ],
      "metadata": {
        "id": "D4yVpcc3IRxT"
      },
      "execution_count": 2,
      "outputs": []
    },
    {
      "cell_type": "code",
      "source": [
        "t = np.linspace(0, 99, 100).reshape(1,-1)\n",
        "print(t)"
      ],
      "metadata": {
        "colab": {
          "base_uri": "https://localhost:8080/"
        },
        "id": "B2G9S6q-InrK",
        "outputId": "6fa717c0-1139-4e34-bce4-57c90a0526a6"
      },
      "execution_count": 22,
      "outputs": [
        {
          "output_type": "stream",
          "name": "stdout",
          "text": [
            "[[ 0.  1.  2.  3.  4.  5.  6.  7.  8.  9. 10. 11. 12. 13. 14. 15. 16. 17.\n",
            "  18. 19. 20. 21. 22. 23. 24. 25. 26. 27. 28. 29. 30. 31. 32. 33. 34. 35.\n",
            "  36. 37. 38. 39. 40. 41. 42. 43. 44. 45. 46. 47. 48. 49. 50. 51. 52. 53.\n",
            "  54. 55. 56. 57. 58. 59. 60. 61. 62. 63. 64. 65. 66. 67. 68. 69. 70. 71.\n",
            "  72. 73. 74. 75. 76. 77. 78. 79. 80. 81. 82. 83. 84. 85. 86. 87. 88. 89.\n",
            "  90. 91. 92. 93. 94. 95. 96. 97. 98. 99.]]\n"
          ]
        }
      ]
    },
    {
      "cell_type": "code",
      "source": [
        "PRT = 10;\n",
        "t_mod = t % PRT\n",
        "print(t_mod)"
      ],
      "metadata": {
        "colab": {
          "base_uri": "https://localhost:8080/"
        },
        "id": "gqx1OVVbJPzA",
        "outputId": "69388a4b-5df4-443d-cf0a-5769dbed177a"
      },
      "execution_count": 23,
      "outputs": [
        {
          "output_type": "stream",
          "name": "stdout",
          "text": [
            "[[0. 1. 2. 3. 4. 5. 6. 7. 8. 9. 0. 1. 2. 3. 4. 5. 6. 7. 8. 9. 0. 1. 2. 3.\n",
            "  4. 5. 6. 7. 8. 9. 0. 1. 2. 3. 4. 5. 6. 7. 8. 9. 0. 1. 2. 3. 4. 5. 6. 7.\n",
            "  8. 9. 0. 1. 2. 3. 4. 5. 6. 7. 8. 9. 0. 1. 2. 3. 4. 5. 6. 7. 8. 9. 0. 1.\n",
            "  2. 3. 4. 5. 6. 7. 8. 9. 0. 1. 2. 3. 4. 5. 6. 7. 8. 9. 0. 1. 2. 3. 4. 5.\n",
            "  6. 7. 8. 9.]]\n"
          ]
        }
      ]
    },
    {
      "cell_type": "code",
      "source": [
        "duty_time = .3\n",
        "pulse_width = duty_time * PRT;\n",
        "\n",
        "mask_array = (t_mod < pulse_width).astype(int);\n",
        "print(mask_array)\n",
        "\n",
        "t_duty = t_mod*mask_array;\n",
        "print(t_duty)"
      ],
      "metadata": {
        "colab": {
          "base_uri": "https://localhost:8080/"
        },
        "id": "A7ODOD9oJWWk",
        "outputId": "c52b045f-ddb1-472d-f35d-5bb285530eed"
      },
      "execution_count": 25,
      "outputs": [
        {
          "output_type": "stream",
          "name": "stdout",
          "text": [
            "[[1 1 1 0 0 0 0 0 0 0 1 1 1 0 0 0 0 0 0 0 1 1 1 0 0 0 0 0 0 0 1 1 1 0 0 0\n",
            "  0 0 0 0 1 1 1 0 0 0 0 0 0 0 1 1 1 0 0 0 0 0 0 0 1 1 1 0 0 0 0 0 0 0 1 1\n",
            "  1 0 0 0 0 0 0 0 1 1 1 0 0 0 0 0 0 0 1 1 1 0 0 0 0 0 0 0]]\n",
            "[[0. 1. 2. 0. 0. 0. 0. 0. 0. 0. 0. 1. 2. 0. 0. 0. 0. 0. 0. 0. 0. 1. 2. 0.\n",
            "  0. 0. 0. 0. 0. 0. 0. 1. 2. 0. 0. 0. 0. 0. 0. 0. 0. 1. 2. 0. 0. 0. 0. 0.\n",
            "  0. 0. 0. 1. 2. 0. 0. 0. 0. 0. 0. 0. 0. 1. 2. 0. 0. 0. 0. 0. 0. 0. 0. 1.\n",
            "  2. 0. 0. 0. 0. 0. 0. 0. 0. 1. 2. 0. 0. 0. 0. 0. 0. 0. 0. 1. 2. 0. 0. 0.\n",
            "  0. 0. 0. 0.]]\n"
          ]
        }
      ]
    },
    {
      "cell_type": "code",
      "source": [
        "pulse = generate_LFM_Pulse(time_array=t_duty, pulse_width=2, pulse_height=4, chirp_rate=0, carrier_frequency=1e6)\n",
        "print(pulse)"
      ],
      "metadata": {
        "colab": {
          "base_uri": "https://localhost:8080/"
        },
        "id": "MJYt-Ux4MGoh",
        "outputId": "f0247469-44e1-48cb-c1c6-091caf1bf91c"
      },
      "execution_count": 31,
      "outputs": [
        {
          "output_type": "stream",
          "name": "stdout",
          "text": [
            "[[4 4 4 4 4 4 4 4 4 4 4 4 4 4 4 4 4 4 4 4 4 4 4 4 4 4 4 4 4 4 4 4 4 4 4 4\n",
            "  4 4 4 4 4 4 4 4 4 4 4 4 4 4 4 4 4 4 4 4 4 4 4 4 4 4 4 4 4 4 4 4 4 4 4 4\n",
            "  4 4 4 4 4 4 4 4 4 4 4 4 4 4 4 4 4 4 4 4 4 4 4 4 4 4 4 4]]\n"
          ]
        }
      ]
    },
    {
      "cell_type": "code",
      "source": [
        "fig = plt.figure(figsize=(10,20))"
      ],
      "metadata": {
        "colab": {
          "base_uri": "https://localhost:8080/",
          "height": 35
        },
        "id": "YeTiZISiIhe0",
        "outputId": "65a0360c-4c1c-4dfa-e042-4530de062c5d"
      },
      "execution_count": 7,
      "outputs": [
        {
          "output_type": "display_data",
          "data": {
            "text/plain": [
              "<Figure size 720x1440 with 0 Axes>"
            ]
          },
          "metadata": {}
        }
      ]
    },
    {
      "cell_type": "code",
      "source": [
        "tau = 2\n",
        "tau_half = tau/2;\n",
        "\n",
        "chi = 1*(np.abs((t_duty[0,:]-tau_half)/tau_half) <= 1);\n",
        "print(chi)"
      ],
      "metadata": {
        "colab": {
          "base_uri": "https://localhost:8080/"
        },
        "id": "huEmYcjqLTyX",
        "outputId": "521c7023-ed87-4dd4-9339-9d0dcf9be19a"
      },
      "execution_count": 34,
      "outputs": [
        {
          "output_type": "stream",
          "name": "stdout",
          "text": [
            "[1 1 1 1 1 1 1 1 1 1 1 1 1 1 1 1 1 1 1 1 1 1 1 1 1 1 1 1 1 1 1 1 1 1 1 1 1\n",
            " 1 1 1 1 1 1 1 1 1 1 1 1 1 1 1 1 1 1 1 1 1 1 1 1 1 1 1 1 1 1 1 1 1 1 1 1 1\n",
            " 1 1 1 1 1 1 1 1 1 1 1 1 1 1 1 1 1 1 1 1 1 1 1 1 1 1]\n"
          ]
        }
      ]
    },
    {
      "cell_type": "code",
      "source": [
        ""
      ],
      "metadata": {
        "id": "WOSdTKuZLVLt"
      },
      "execution_count": null,
      "outputs": []
    }
  ]
}