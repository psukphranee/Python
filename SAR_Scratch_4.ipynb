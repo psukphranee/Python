{
  "nbformat": 4,
  "nbformat_minor": 0,
  "metadata": {
    "colab": {
      "name": "SAR Scratch 4.ipynb",
      "provenance": [],
      "authorship_tag": "ABX9TyPwBvNrOtW5D3oV6lshQgOn",
      "include_colab_link": true
    },
    "kernelspec": {
      "name": "python3",
      "display_name": "Python 3"
    },
    "language_info": {
      "name": "python"
    }
  },
  "cells": [
    {
      "cell_type": "markdown",
      "metadata": {
        "id": "view-in-github",
        "colab_type": "text"
      },
      "source": [
        "<a href=\"https://colab.research.google.com/github/psukphranee/Python-Practice/blob/master/SAR_Scratch_4.ipynb\" target=\"_parent\"><img src=\"https://colab.research.google.com/assets/colab-badge.svg\" alt=\"Open In Colab\"/></a>"
      ]
    },
    {
      "cell_type": "code",
      "source": [
        "import matplotlib.pyplot as plt\n",
        "import numpy as np\n",
        "import math\n",
        "import os\n",
        "import scipy.sparse as sp"
      ],
      "metadata": {
        "id": "mmiZ01rDPTzH"
      },
      "execution_count": 1,
      "outputs": []
    },
    {
      "cell_type": "markdown",
      "source": [
        "#I. Introduction\n",
        "\n",
        "> A satellite antenna emits a chirp pulse train towards the ground some distance away. The signal has a PRF of 10kHz with 10% duty-time. The signal bounces off of the ground directly back at the antenna. The antenna picks the signal up at a sampling rate of 1GHz. The ground will be model as an LTI system. Thus, the reflected signal is the convolution of the incoming signal (incoming into the ground) with the impulse response of the ground.\n",
        "\n",
        " > This notebook will give a rundown of the principles involved and implementation details and logic using Python. The ideas will be finally be implemented in C++."
      ],
      "metadata": {
        "id": "iO-5Crzl6-KH"
      }
    },
    {
      "cell_type": "markdown",
      "source": [
        "##Sampling Frequency\n",
        "\n",
        "###Data Points\n",
        "\n",
        "> The sampling frequency of 1GHz determines the number of data points in our implementation. We'll have $1GHz \\approx 1024$ datapoints per second.\n",
        "\n",
        "\n",
        "###Nyquist Rate\n",
        "\n",
        "> The sampling frequency imposes a limit of the signal frequency we can reconstruct. \n",
        "\n",
        "> $f_s > 2 f_m$ or $\\dfrac{f_s}{2} > f_m$.\n",
        "\n",
        "> Thus, the maximum frequency of the chirp pulse is limited to $\\dfrac{f_s}{2} = .5GHz = 500MHz$."
      ],
      "metadata": {
        "id": "EfuhTefz_Rtm"
      }
    },
    {
      "cell_type": "markdown",
      "source": [
        "##Signal - Chirp Pulse\n",
        "\n",
        "The signal is described by\n",
        "\n",
        "$P(t) = \\chi_{\\tau}(t) e^{j 2 \\pi (f_c t + \\frac{1}{2}k t^2)}$. (Cheney; Ho Doo, Smith, Baker).\n",
        "\n",
        "Where \n",
        "\n",
        "$\n",
        "\\chi_{\\tau}(t)=\n",
        "    \\begin{cases}\n",
        "        A & \\text{if } t \\in [0, \\tau] \\\\\n",
        "        0 & otherwise\n",
        "    \\end{cases}\n",
        "$\n",
        "\n",
        "###Carrier Frequency and Chirp Rate Constraints\n",
        "The **pulse width**, $\\tau$, is calculated as the duty time divided by the pulse repetition frequency,\n",
        "\n",
        "$\n",
        "\\tau = \\dfrac{D}{PRF} = \\dfrac{.1}{10^4} = 10^{-5}s.\n",
        "$\n",
        "\n",
        "We can choose our carrier frequency and chirp rate so that we don't exceed $f_m = 500MHz$ over the pulse duration $\\tau$.\n",
        "\n",
        "$f_c + \\dfrac{10^{-5}}{2}k < 500MHz$."
      ],
      "metadata": {
        "id": "f7ygKKxRCpU4"
      }
    },
    {
      "cell_type": "code",
      "execution_count": 2,
      "metadata": {
        "colab": {
          "base_uri": "https://localhost:8080/",
          "height": 308
        },
        "id": "tSKd_Sy96a_C",
        "outputId": "bda7e900-f9a8-4287-f36b-204300cec07c"
      },
      "outputs": [
        {
          "output_type": "execute_result",
          "data": {
            "text/plain": [
              "Text(0, 0.5, 'MHz/sec')"
            ]
          },
          "metadata": {},
          "execution_count": 2
        },
        {
          "output_type": "display_data",
          "data": {
            "text/plain": [
              "<Figure size 432x288 with 1 Axes>"
            ],
            "image/png": "[encoded data removed]"
          },
          "metadata": {
            "needs_background": "light"
          }
        }
      ],
      "source": [
        "plt.plot([0, 500],[10e8, 0])\n",
        "# plt.yscale('log')\n",
        "plt.xscale('linear')\n",
        "# plt.xlim([0, 500])\n",
        "plt.xlabel('MHz')\n",
        "plt.ylabel('MHz/sec')"
      ]
    },
    {
      "cell_type": "markdown",
      "source": [
        "##LTI System - Ground Reflection\n",
        "\n",
        "Signals incident on the ground are modeled with geometric optics. The rays incident at different points of the ground are backscattered with different delay times. The ground illuminated is modeled as a the superposition of all impulse responses from each scatter point.\n",
        "\n",
        "For each ground scatter point $g_i$, the impulse response is \n",
        "\n",
        "$\n",
        "  H_i \\delta(t) = \\delta(t - \\tau_i)\n",
        "$. ie, the response is a delayed input. The total system response is then the sum of all point scatters,\n",
        "\n",
        "$\n",
        "\\begin{align}\n",
        "h(t) &:= H \\delta(t) \\\\\n",
        "&= \\sum H_i \\delta(t) \\\\\n",
        "&= \\sum \\delta(t - \\tau_i).\n",
        "\\end{align}\n",
        "$\n",
        "\n",
        "\n",
        "The reflected signal is then given by\n",
        "\n",
        "\n",
        "$\n",
        "\\begin{align}\n",
        "  P_R(t) &= P(t) \\star h(t) \\\\\n",
        "    &= P(t) \\star \\sum \\delta(t - \\tau_i) \\\\\n",
        "    &=  \\sum  P(t) \\star\\delta(t - \\tau_i) \\\\\n",
        "    &= \\sum P(t - \\tau_i)\n",
        "\\end{align}\n",
        "$"
      ],
      "metadata": {
        "id": "1v2aF0ZrSv9Z"
      }
    },
    {
      "cell_type": "markdown",
      "source": [
        "#II. Implementation\n"
      ],
      "metadata": {
        "id": "HJS7jgPHymYZ"
      }
    },
    {
      "cell_type": "markdown",
      "source": [
        "##Functions\n",
        "\n",
        "```plot_train(time_absolute, time_modulus, train)```\n",
        "\n",
        "```generate_pulse_envelope(time_array, pulse_width, pulse_height)```\n",
        "\n",
        "```generate_pulse_wave(time_array, chirp_rate, carrier_frequency)```\n",
        "\n",
        "```generate_LFM_Pulse(time_array, pulse_width, pulse_height, chirp_rate, carrier_frequency)```"
      ],
      "metadata": {
        "id": "d7w5gUaU3b54"
      }
    },
    {
      "cell_type": "code",
      "source": [
        "#Helper Functions\n",
        "\n",
        "def plot_train(time_absolute, time_modulus, train):\n",
        "\n",
        "  fig, ax = plt.subplots(2,1, figsize=(20,8))\n",
        "  ax[0].plot(t[0,:], train[0,:], alpha=0.5)\n",
        "  ax[1].plot(t[0,:], t_mod[0,:], alpha=0.5)\n",
        "\n",
        "  # ax[0].set_title(\"Pulse Envelope\")\n",
        "  ax[1].set_title(\"Verify Periodicity\")\n",
        "  plt.show()"
      ],
      "metadata": {
        "id": "hllTEhcRzbXa"
      },
      "execution_count": 3,
      "outputs": []
    },
    {
      "cell_type": "code",
      "source": [
        "def generate_pulse_envelope(time_array, pulse_width=1e-5, pulse_height=1):\n",
        "  #this function returns pulse envelopes of tau width wide. the left edge of the envelope is located at any zeros of the time array.\n",
        "\n",
        "  t = time_array;\n",
        "  A = pulse_height;\n",
        "  tau = pulse_width; \n",
        "  tau_half = tau/2;\n",
        "\n",
        "  chi = A * (np.abs((t-tau_half)/tau_half) <= 1);\n",
        "\n",
        "  return chi;"
      ],
      "metadata": {
        "id": "VW1_2ZDJ1Bhh"
      },
      "execution_count": 4,
      "outputs": []
    },
    {
      "cell_type": "code",
      "source": [
        "def generate_pulse_wave(time_array, chirp_rate=0, carrier_frequency=500e6):\n",
        "  #time ---------------\n",
        "  t = time_array #expected time vector should be preprocessed before passed to this function. pulse and envelope start their sequences at times values of zeros.\n",
        "\n",
        "  #LFM  ---------------\n",
        "  k = chirp_rate\n",
        "  f_c = carrier_frequency\n",
        "  # #argument to be passed to exponenetial \n",
        "  exp_arg = 2j*np.pi*(f_c*t + .5*k*(np.square(t)))\n",
        "  LFM = np.exp(exp_arg);\n",
        "\n",
        "  return LFM"
      ],
      "metadata": {
        "id": "aIpC8P2f1FGP"
      },
      "execution_count": 5,
      "outputs": []
    },
    {
      "cell_type": "code",
      "source": [
        "def generate_LFM_Pulse(time_array, pulse_width=1, pulse_height=1, chirp_rate=1, carrier_frequency=100):\n",
        "  \n",
        "  #time ---------------\n",
        "  t = time_array #expected time vector should be preprocessed before passed to this function. pulse and envelope start their sequences at times values of zeros.\n",
        "\n",
        "  #pulse envelope  ---------------\n",
        "  chi = generate_pulse_envelope(t, pulse_height=pulse_height, pulse_width=pulse_width);\n",
        "\n",
        "  #LFM  ---------------\n",
        "  k = chirp_rate\n",
        "  f_c = carrier_frequency\n",
        "\n",
        "  LFM = generate_pulse_wave(t, k, f_c)\n",
        "\n",
        "  pulse = chi * LFM;\n",
        "\n",
        "  return pulse"
      ],
      "metadata": {
        "id": "V-wZGRt71HOO"
      },
      "execution_count": 6,
      "outputs": []
    },
    {
      "cell_type": "markdown",
      "source": [
        "##Function Demo"
      ],
      "metadata": {
        "id": "sEuzSqFS3o9A"
      }
    },
    {
      "cell_type": "code",
      "source": [
        "#define parameters\n",
        "f_s = 10e9; #sampling rate; data points per second (1GHz)\n",
        "PRF = 10e3; #10kHz\n",
        "D = .1 #duty time\n",
        "\n",
        "PRT = np.reciprocal(PRF)\n",
        "f_m = f_s/2\n",
        "tau = D*PRT\n",
        "\n",
        "#\n",
        "A = 1 #pulse height\n",
        "k = 0 #chirp rate\n",
        "f_c = 400e6 #carrier freq"
      ],
      "metadata": {
        "id": "PSr-y1wNARpk"
      },
      "execution_count": 7,
      "outputs": []
    },
    {
      "cell_type": "code",
      "source": [
        "t_end = PRT*8 #multiple of pulse repittion period\n",
        "# t = np.linspace(0, t_end, int(f_s)).reshape(1,-1)\n",
        "# t_mod = t % PRT\n",
        "\n",
        "# pulse_envelope = generate_pulse_envelope(time_array=t_mod, pulse_width=tau, pulse_height=1)\n",
        "# pulse_wave = generate_pulse_wave(time_array=t, chirp_rate=k, carrier_frequency=f_c)\n",
        "# pulse = generate_LFM_Pulse(time_array=t, pulse_width=tau, pulse_height=1, chirp_rate=k, carrier_frequency=f_c)"
      ],
      "metadata": {
        "colab": {
          "base_uri": "https://localhost:8080/",
          "height": 240
        },
        "id": "raxT94dv3sR1",
        "outputId": "9c6f3595-9ba2-4aa4-cc86-f5bc724e677e"
      },
      "execution_count": 1,
      "outputs": [
        {
          "output_type": "error",
          "ename": "NameError",
          "evalue": "ignored",
          "traceback": [
            "\u001b[0;31m---------------------------------------------------------------------------\u001b[0m",
            "\u001b[0;31mNameError\u001b[0m                                 Traceback (most recent call last)",
            "\u001b[0;32m<ipython-input-1-5e2b001a603a>\u001b[0m in \u001b[0;36m<module>\u001b[0;34m()\u001b[0m\n\u001b[0;32m----> 1\u001b[0;31m \u001b[0mt_end\u001b[0m \u001b[0;34m=\u001b[0m \u001b[0mPRT\u001b[0m\u001b[0;34m*\u001b[0m\u001b[0;36m8\u001b[0m \u001b[0;31m#multiple of pulse repittion period\u001b[0m\u001b[0;34m\u001b[0m\u001b[0;34m\u001b[0m\u001b[0m\n\u001b[0m\u001b[1;32m      2\u001b[0m \u001b[0;31m# t = np.linspace(0, t_end, int(f_s)).reshape(1,-1)\u001b[0m\u001b[0;34m\u001b[0m\u001b[0;34m\u001b[0m\u001b[0;34m\u001b[0m\u001b[0m\n\u001b[1;32m      3\u001b[0m \u001b[0;31m# t_mod = t % PRT\u001b[0m\u001b[0;34m\u001b[0m\u001b[0;34m\u001b[0m\u001b[0;34m\u001b[0m\u001b[0m\n\u001b[1;32m      4\u001b[0m \u001b[0;34m\u001b[0m\u001b[0m\n\u001b[1;32m      5\u001b[0m \u001b[0;31m# pulse_envelope = generate_pulse_envelope(time_array=t_mod, pulse_width=tau, pulse_height=1)\u001b[0m\u001b[0;34m\u001b[0m\u001b[0;34m\u001b[0m\u001b[0;34m\u001b[0m\u001b[0m\n",
            "\u001b[0;31mNameError\u001b[0m: name 'PRT' is not defined"
          ]
        }
      ]
    },
    {
      "cell_type": "code",
      "source": [
        "print(tau,f_s, t_end, f_s*t_end)"
      ],
      "metadata": {
        "id": "iSmUzV5S4dxd"
      },
      "execution_count": null,
      "outputs": []
    },
    {
      "cell_type": "code",
      "source": [
        "plt.figure(figsize=(16, 4))\n",
        "plt.plot(t[0,:], t_mod[0,:])\n",
        "\n",
        "plt.show()"
      ],
      "metadata": {
        "id": "wKBbCJHH0Fcz"
      },
      "execution_count": null,
      "outputs": []
    },
    {
      "cell_type": "code",
      "source": [
        "t_mod"
      ],
      "metadata": {
        "id": "gQpIyeWQ0HSY"
      },
      "execution_count": null,
      "outputs": []
    },
    {
      "cell_type": "code",
      "source": [
        "pulse_wave"
      ],
      "metadata": {
        "id": "3_Qo2sBi54jF"
      },
      "execution_count": null,
      "outputs": []
    },
    {
      "cell_type": "code",
      "source": [
        "plt.figure(figsize=(16, 4))\n",
        "plt.plot(t, pulse_wave)\n",
        "plt.show()"
      ],
      "metadata": {
        "id": "FSro11ir7BxP"
      },
      "execution_count": null,
      "outputs": []
    },
    {
      "cell_type": "code",
      "source": [
        ""
      ],
      "metadata": {
        "id": "kYq0TWRD7EEA"
      },
      "execution_count": null,
      "outputs": []
    }
  ]
}