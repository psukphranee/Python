{
  "nbformat": 4,
  "nbformat_minor": 0,
  "metadata": {
    "colab": {
      "provenance": [],
      "authorship_tag": "ABX9TyPPpDkOpmacQ5LnRuGw/8XT",
      "include_colab_link": true
    },
    "kernelspec": {
      "name": "python3",
      "display_name": "Python 3"
    },
    "language_info": {
      "name": "python"
    }
  },
  "cells": [
    {
      "cell_type": "markdown",
      "metadata": {
        "id": "view-in-github",
        "colab_type": "text"
      },
      "source": [
        "<a href=\"https://colab.research.google.com/github/psukphranee/Python/blob/master/Calculate_Eulerian_Polynomial.ipynb\" target=\"_parent\"><img src=\"https://colab.research.google.com/assets/colab-badge.svg\" alt=\"Open In Colab\"/></a>"
      ]
    },
    {
      "cell_type": "markdown",
      "source": [
        "# Calculate Eulerian Polynomials\n",
        "\n",
        "## 1. Implementation Code.\n",
        "\n",
        "To run code, scroll to Section 2 for instruction on implementing."
      ],
      "metadata": {
        "id": "HREH7SZEeIMV"
      }
    },
    {
      "cell_type": "code",
      "source": [
        "import numpy as np\n",
        "import itertools\n",
        "import logging\n",
        "import sys\n",
        "import time\n",
        "import os\n",
        "from datetime import datetime\n"
      ],
      "metadata": {
        "id": "5LVr0DgpgEMM"
      },
      "execution_count": 17,
      "outputs": []
    },
    {
      "cell_type": "code",
      "source": [
        "log_dir = '/content/eulerian_polynomials/logs'\n",
        "os.makedirs(log_dir, exist_ok=True)  # Create the directory if it doesn't exist\n",
        "# log_file = os.path.join(log_dir, f'descent_counts_log_{timestamp}.txt')\n",
        "\n",
        "# # Configure logging\n",
        "# logging.basicConfig(filename=log_file,\n",
        "#                     filemode='a',\n",
        "#                     format='',\n",
        "#                     force=True,\n",
        "#                     level=logging.INFO)"
      ],
      "metadata": {
        "id": "MxyuK_O67yqK"
      },
      "execution_count": 18,
      "outputs": []
    },
    {
      "cell_type": "code",
      "source": [
        "def print_sorted_dict(d):\n",
        "    # Sort the dictionary by keys\n",
        "    sorted_items = sorted(d.items())\n",
        "\n",
        "    # Print each key-value pair\n",
        "    for key, value in sorted_items:\n",
        "        print(f'{key}: {value}')"
      ],
      "metadata": {
        "id": "cRu3KjetRxi4"
      },
      "execution_count": 19,
      "outputs": []
    },
    {
      "cell_type": "code",
      "source": [
        "#wrap the incidence matrix to make the appended incidence matrix\n",
        "def append_incidence_matrix(incidence_matrix):\n",
        "\n",
        "    numRows, numCols = incidence_matrix.shape\n",
        "\n",
        "    # Add a row of zeros at the top\n",
        "    appended = np.vstack([np.zeros((1, numCols)), incidence_matrix])\n",
        "\n",
        "    # Create a new column with a 1 in the second position\n",
        "    add_col = np.zeros((numRows + 1, 1))\n",
        "    add_col[1] = 1\n",
        "\n",
        "    # Add the new column to the left of the appended matrix\n",
        "    appended = np.hstack([add_col, appended])\n",
        "\n",
        "    return appended"
      ],
      "metadata": {
        "id": "Y7rh8epYiZ2F"
      },
      "execution_count": 20,
      "outputs": []
    },
    {
      "cell_type": "code",
      "execution_count": 21,
      "metadata": {
        "collapsed": true,
        "id": "igYnZ52neEXF"
      },
      "outputs": [],
      "source": [
        "# Function to calculate the descent counts\n",
        "def calculate_descent_counts(Sigma, print_output=True, title=''):\n",
        "\n",
        "    # Generate a timestamp string\n",
        "    timestamp = datetime.now().strftime('%Y%m%d_%H%M%S')\n",
        "\n",
        "    # Create a unique log file name using the timestamp\n",
        "    log_file = os.path.join(log_dir, f'descent_counts_log_{timestamp}.txt')\n",
        "\n",
        "    logging.basicConfig(filename=log_file,\n",
        "                        filemode='a',\n",
        "                        format='',\n",
        "                        force=True,\n",
        "                        level=logging.INFO)\n",
        "\n",
        "    if print_output:\n",
        "      print(title)\n",
        "    logging.info(title)\n",
        "\n",
        "    # Generate vector of permutations\n",
        "    n = Sigma.shape[0]  # Specify the value of n\n",
        "    message = f'n = {n}'\n",
        "    # if print_output:\n",
        "    print(message)\n",
        "    logging.info(message)\n",
        "\n",
        "    # Append Sigma\n",
        "    Sigma_appended = append_incidence_matrix(Sigma)\n",
        "    message = f'Appended Incidence Matrix: \\n{Sigma_appended}'\n",
        "    if print_output:\n",
        "      print(message)\n",
        "    logging.info(message)\n",
        "\n",
        "    # Vector of descent counts 0 to n\n",
        "    descent_counts = dict()\n",
        "    message = f'Vector of descent counts (0 to n): {descent_counts}'\n",
        "    if print_output:\n",
        "      print(message)\n",
        "    #logging.info(message)\n",
        "\n",
        "    # Vector of elements of [n] to be permuted\n",
        "    elements = list(range(1, n + 1))\n",
        "\n",
        "    # Generate all permutations and combinations of -1, +1\n",
        "    perms = itertools.permutations(elements)\n",
        "\n",
        "    # Iterate through the permutations\n",
        "    message = 'Iterating through signed permutations...'\n",
        "    # if print_output:\n",
        "    print(message)\n",
        "    logging.info(message)\n",
        "\n",
        "    #setup counter to make sure we get 2^n * n! iterations\n",
        "    counter = 0\n",
        "\n",
        "    for perm in perms:\n",
        "        # Convert the tuple into a np array\n",
        "        perm_vect = np.array(perm)\n",
        "\n",
        "        comb = itertools.product([-1, 1], repeat=n)\n",
        "        # Iterate through the combinations\n",
        "        for c in comb:\n",
        "            # Convert the tuple into a np array\n",
        "            epsilon_vect = np.array(c)\n",
        "\n",
        "            # Create signed permutation and insert 0 at the beginning of the vector\n",
        "            pi_epsilon = np.multiply(perm_vect, epsilon_vect)\n",
        "            pi_epsilon = np.insert(pi_epsilon, 0, 0)\n",
        "\n",
        "            # Multiply matrices\n",
        "            prod = np.matmul(pi_epsilon, Sigma_appended)\n",
        "\n",
        "            # Get descend number for this permutation\n",
        "            numDesc = np.sum(prod < 0)\n",
        "\n",
        "            # Increment the corresponding entry of the matrix\n",
        "            descent_counts[numDesc] = descent_counts.get(numDesc, 0) + 1\n",
        "\n",
        "            #increment counter\n",
        "            counter += 1\n",
        "\n",
        "            message = (f'counter:\\n{counter}\\npi_eps:\\n{pi_epsilon}\\nAppended Incidence Matrix:\\n{Sigma_appended}\\n'\n",
        "                       f'Prod:\\n{prod}\\n#Des: {numDesc}')\n",
        "            if print_output:\n",
        "                print(message)\n",
        "            logging.info(message)\n",
        "            if print_output:\n",
        "                print('------------------------------------------')\n",
        "            logging.info('------------------------------------------')\n",
        "\n",
        "    message = f'...completed {counter} iterations through signed permutations.'\n",
        "    # if print_output:\n",
        "    print(message)\n",
        "    logging.info(message)\n",
        "\n",
        "\n",
        "    return descent_counts"
      ]
    },
    {
      "cell_type": "markdown",
      "source": [
        "## 2. Implementing Code\n",
        "\n",
        "The following cell is a template for executing the program.\n",
        "1. Specify the incidence matrix (not appended incidence matrix)\n",
        "2. Pass it to calculate_descent_counts(). This returns a dictionary\n",
        "3. Use print_sorted_dict() to print the dictionary sorted by keys\n",
        "\n",
        "A log will be output in \"/content/eulerian_polynomials/logs\" that shows the result of running through all signed permutations."
      ],
      "metadata": {
        "id": "h8WgBLemkI5Z"
      }
    },
    {
      "cell_type": "code",
      "source": [
        "# Specify Indicence Matrix\n",
        "Sigma = np.array([[0],[0]])\n",
        "print('Sigma: \\n', Sigma)\n",
        "\n",
        "#optional title that appears at the top of the log file\n",
        "title = f'Incidence matric corresponding to graph in example 1a'\n",
        "\n",
        "descent_counts = calculate_descent_counts(Sigma, print_output=False, title=message)\n",
        "\n",
        "print('Descent Counts: \\n')\n",
        "print_sorted_dict(descent_counts)"
      ],
      "metadata": {
        "colab": {
          "base_uri": "https://localhost:8080/"
        },
        "outputId": "8c7787dd-6b47-4b07-d853-41a0fb09209d",
        "collapsed": true,
        "id": "a64rK2Pu6nvi"
      },
      "execution_count": 53,
      "outputs": [
        {
          "output_type": "stream",
          "name": "stdout",
          "text": [
            "Sigma: \n",
            " [[0]\n",
            " [0]]\n",
            "n = 2\n",
            "Iterating through signed permutations...\n",
            "...completed 8 iterations through signed permutations.\n",
            "Descent Counts: \n",
            "\n",
            "0: 4\n",
            "1: 4\n"
          ]
        }
      ]
    },
    {
      "cell_type": "code",
      "source": [
        "Sigma = np.array([[-1],[-1]])\n",
        "print('Sigma: \\n', Sigma)\n",
        "\n",
        "message = f'Incidence matric corresponding to graph in example 1b'\n",
        "descent_counts = calculate_descent_counts(Sigma, print_output=False, title=message)\n",
        "print('Descent Counts: \\n')\n",
        "print_sorted_dict(descent_counts)"
      ],
      "metadata": {
        "colab": {
          "base_uri": "https://localhost:8080/"
        },
        "id": "9UQ9QLOoWP17",
        "outputId": "e1fbdce9-7e1d-4dc2-cc91-7ad22d108579"
      },
      "execution_count": 38,
      "outputs": [
        {
          "output_type": "stream",
          "name": "stdout",
          "text": [
            "Sigma: \n",
            " [[-1]\n",
            " [-1]]\n",
            "n = 2\n",
            "Iterating through signed permutations...\n",
            "...completed 8 iterations through signed permutations.\n",
            "Descent Counts: \n",
            "\n",
            "0: 1\n",
            "1: 6\n",
            "2: 1\n"
          ]
        }
      ]
    },
    {
      "cell_type": "code",
      "source": [
        "Sigma = np.array([[0,0],[0,0],[0,0]])\n",
        "print('Sigma: \\n', Sigma)\n",
        "\n",
        "message = f'Incidence matric corresponding to graph in 2a'\n",
        "descent_counts = calculate_descent_counts(Sigma, print_output=False, title=message)\n",
        "print('Descent Counts: \\n')\n",
        "print_sorted_dict(descent_counts)"
      ],
      "metadata": {
        "colab": {
          "base_uri": "https://localhost:8080/"
        },
        "id": "fufDqW5x21uT",
        "outputId": "a9ca4e36-3e1e-441a-c480-8e60108baaa0"
      },
      "execution_count": 39,
      "outputs": [
        {
          "output_type": "stream",
          "name": "stdout",
          "text": [
            "Sigma: \n",
            " [[0 0]\n",
            " [0 0]\n",
            " [0 0]]\n",
            "n = 3\n",
            "Iterating through signed permutations...\n",
            "...completed 48 iterations through signed permutations.\n",
            "Descent Counts: \n",
            "\n",
            "0: 24\n",
            "1: 24\n"
          ]
        }
      ]
    },
    {
      "cell_type": "code",
      "source": [
        "Sigma = np.array([[-1,0],[-1,0],[0,0]])\n",
        "print('Sigma: \\n', Sigma)\n",
        "\n",
        "message = f'Incidence matric corresponding to graph in 2b'\n",
        "descent_counts = calculate_descent_counts(Sigma, print_output=False, title=message)\n",
        "print('Descent Counts: \\n')\n",
        "print_sorted_dict(descent_counts)"
      ],
      "metadata": {
        "colab": {
          "base_uri": "https://localhost:8080/"
        },
        "id": "vpdi2UqIORET",
        "outputId": "8e6d12a4-4253-42d2-dd44-e9c764c12cf5"
      },
      "execution_count": 40,
      "outputs": [
        {
          "output_type": "stream",
          "name": "stdout",
          "text": [
            "Sigma: \n",
            " [[-1  0]\n",
            " [-1  0]\n",
            " [ 0  0]]\n",
            "n = 3\n",
            "Iterating through signed permutations...\n",
            "...completed 48 iterations through signed permutations.\n",
            "Descent Counts: \n",
            "\n",
            "0: 6\n",
            "1: 36\n",
            "2: 6\n"
          ]
        }
      ]
    },
    {
      "cell_type": "code",
      "source": [
        "Sigma = np.array([[-1,0],[-1,-1],[0,-1]])\n",
        "print('Sigma: \\n', Sigma)\n",
        "\n",
        "message = f'Incidence matric corresponding to graph in 2c'\n",
        "descent_counts = calculate_descent_counts(Sigma, print_output=False, title=message)\n",
        "print('Descent Counts: \\n')\n",
        "print_sorted_dict(descent_counts)"
      ],
      "metadata": {
        "colab": {
          "base_uri": "https://localhost:8080/"
        },
        "id": "eGDiANyZ3EzU",
        "outputId": "1b59488e-28f3-4436-ce54-74b344d4f658"
      },
      "execution_count": 41,
      "outputs": [
        {
          "output_type": "stream",
          "name": "stdout",
          "text": [
            "Sigma: \n",
            " [[-1  0]\n",
            " [-1 -1]\n",
            " [ 0 -1]]\n",
            "n = 3\n",
            "Iterating through signed permutations...\n",
            "...completed 48 iterations through signed permutations.\n",
            "Descent Counts: \n",
            "\n",
            "0: 5\n",
            "1: 19\n",
            "2: 19\n",
            "3: 5\n"
          ]
        }
      ]
    },
    {
      "cell_type": "code",
      "source": [
        "Sigma = np.array([[0,0,0],[0,0,0],[0,0,0],[0,0,0]])\n",
        "print('Sigma: \\n', Sigma)\n",
        "\n",
        "message = f'Incidence matric corresponding to graph in 3a'\n",
        "descent_counts = calculate_descent_counts(Sigma, print_output=False, title=message)\n",
        "print('Descent Counts: \\n')\n",
        "print_sorted_dict(descent_counts)"
      ],
      "metadata": {
        "colab": {
          "base_uri": "https://localhost:8080/"
        },
        "id": "XZmU2SqsOh6l",
        "outputId": "48c073d4-e39a-4e65-b456-fe69ac20f574"
      },
      "execution_count": 42,
      "outputs": [
        {
          "output_type": "stream",
          "name": "stdout",
          "text": [
            "Sigma: \n",
            " [[0 0 0]\n",
            " [0 0 0]\n",
            " [0 0 0]\n",
            " [0 0 0]]\n",
            "n = 4\n",
            "Iterating through signed permutations...\n",
            "...completed 384 iterations through signed permutations.\n",
            "Descent Counts: \n",
            "\n",
            "0: 192\n",
            "1: 192\n"
          ]
        }
      ]
    },
    {
      "cell_type": "code",
      "source": [
        "Sigma = np.array([[-1,0,0],[0,0,0],[0,0,0],[-1,0,0]])\n",
        "print('Sigma: \\n', Sigma)\n",
        "\n",
        "message = f'Incidence matric corresponding to graph in 3b'\n",
        "descent_counts = calculate_descent_counts(Sigma, print_output=False, title=message)\n",
        "print('Descent Counts: \\n')\n",
        "print_sorted_dict(descent_counts)"
      ],
      "metadata": {
        "colab": {
          "base_uri": "https://localhost:8080/"
        },
        "id": "dhLRlv78_d3h",
        "outputId": "5b2f4256-f447-4450-9fad-398af8ff1941"
      },
      "execution_count": 43,
      "outputs": [
        {
          "output_type": "stream",
          "name": "stdout",
          "text": [
            "Sigma: \n",
            " [[-1  0  0]\n",
            " [ 0  0  0]\n",
            " [ 0  0  0]\n",
            " [-1  0  0]]\n",
            "n = 4\n",
            "Iterating through signed permutations...\n",
            "...completed 384 iterations through signed permutations.\n",
            "Descent Counts: \n",
            "\n",
            "0: 48\n",
            "1: 288\n",
            "2: 48\n"
          ]
        }
      ]
    },
    {
      "cell_type": "code",
      "source": [
        "Sigma = np.array([[-1,0,0],[0,0,0],[-1,-1,0],[0,-1,0]])\n",
        "print('Sigma: \\n', Sigma)\n",
        "\n",
        "message = f'Incidence matric corresponding to graph in 3c'\n",
        "descent_counts = calculate_descent_counts(Sigma, print_output=False, title=message)\n",
        "print('Descent Counts: \\n')\n",
        "print_sorted_dict(descent_counts)"
      ],
      "metadata": {
        "colab": {
          "base_uri": "https://localhost:8080/"
        },
        "id": "ti7X8qK1OtL2",
        "outputId": "618ae002-e832-44d7-f4cf-19bfcdc2ac54"
      },
      "execution_count": 44,
      "outputs": [
        {
          "output_type": "stream",
          "name": "stdout",
          "text": [
            "Sigma: \n",
            " [[-1  0  0]\n",
            " [ 0  0  0]\n",
            " [-1 -1  0]\n",
            " [ 0 -1  0]]\n",
            "n = 4\n",
            "Iterating through signed permutations...\n",
            "...completed 384 iterations through signed permutations.\n",
            "Descent Counts: \n",
            "\n",
            "0: 40\n",
            "1: 152\n",
            "2: 152\n",
            "3: 40\n"
          ]
        }
      ]
    },
    {
      "cell_type": "code",
      "source": [
        "Sigma = np.array([[-1,0,0],[-1,-1,0],[0,-1,-1],[0,0,-1]])\n",
        "print('Sigma: \\n', Sigma)\n",
        "\n",
        "message = f'Incidence matric corresponding to graph in 3d'\n",
        "descent_counts = calculate_descent_counts(Sigma, print_output=False, title=message)\n",
        "print('Descent Counts: \\n')\n",
        "print_sorted_dict(descent_counts)"
      ],
      "metadata": {
        "colab": {
          "base_uri": "https://localhost:8080/"
        },
        "id": "d4YiQHF4O1Zd",
        "outputId": "115b3c8e-7a25-419c-93d4-77a88d01eb1c"
      },
      "execution_count": 45,
      "outputs": [
        {
          "output_type": "stream",
          "name": "stdout",
          "text": [
            "Sigma: \n",
            " [[-1  0  0]\n",
            " [-1 -1  0]\n",
            " [ 0 -1 -1]\n",
            " [ 0  0 -1]]\n",
            "n = 4\n",
            "Iterating through signed permutations...\n",
            "...completed 384 iterations through signed permutations.\n",
            "Descent Counts: \n",
            "\n",
            "0: 23\n",
            "1: 116\n",
            "2: 106\n",
            "3: 116\n",
            "4: 23\n"
          ]
        }
      ]
    },
    {
      "cell_type": "code",
      "source": [
        "Sigma = np.array([[0],[0],[0],[0]])\n",
        "print('Sigma: \\n', Sigma)\n",
        "\n",
        "message = f'Incidence matric corresponding to graph in 4a'\n",
        "descent_counts = calculate_descent_counts(Sigma, print_output=False, title=message)\n",
        "print('Descent Counts: \\n')\n",
        "print_sorted_dict(descent_counts)"
      ],
      "metadata": {
        "colab": {
          "base_uri": "https://localhost:8080/"
        },
        "id": "HET-Fb2VPCa6",
        "outputId": "d50d29c1-6e9a-4a67-d9c9-232ae4efb0ad"
      },
      "execution_count": 46,
      "outputs": [
        {
          "output_type": "stream",
          "name": "stdout",
          "text": [
            "Sigma: \n",
            " [[0]\n",
            " [0]\n",
            " [0]\n",
            " [0]]\n",
            "n = 4\n",
            "Iterating through signed permutations...\n",
            "...completed 384 iterations through signed permutations.\n",
            "Descent Counts: \n",
            "\n",
            "0: 192\n",
            "1: 192\n"
          ]
        }
      ]
    },
    {
      "cell_type": "code",
      "source": [
        "Sigma = np.array([[-1],[-1],[0],[0]])\n",
        "print('Sigma: \\n', Sigma)\n",
        "\n",
        "message = f'Incidence matric corresponding to graph in 4b'\n",
        "descent_counts = calculate_descent_counts(Sigma, print_output=False, title=message)\n",
        "print('Descent Counts: \\n')\n",
        "print_sorted_dict(descent_counts)"
      ],
      "metadata": {
        "colab": {
          "base_uri": "https://localhost:8080/"
        },
        "id": "snazab26_o1y",
        "outputId": "03d3d032-a8d5-4795-c283-b1c6838e9058"
      },
      "execution_count": 47,
      "outputs": [
        {
          "output_type": "stream",
          "name": "stdout",
          "text": [
            "Sigma: \n",
            " [[-1]\n",
            " [-1]\n",
            " [ 0]\n",
            " [ 0]]\n",
            "n = 4\n",
            "Iterating through signed permutations...\n",
            "...completed 384 iterations through signed permutations.\n",
            "Descent Counts: \n",
            "\n",
            "0: 48\n",
            "1: 288\n",
            "2: 48\n"
          ]
        }
      ]
    },
    {
      "cell_type": "code",
      "source": [
        "Sigma = np.array([[-1,-1],[-1,0],[0,-1],[0,0]])\n",
        "print('Sigma: \\n', Sigma)\n",
        "\n",
        "message = f'Incidence matric corresponding to graph in 4c'\n",
        "descent_counts = calculate_descent_counts(Sigma, print_output=False, title=message)\n",
        "print('Descent Counts: \\n')\n",
        "print_sorted_dict(descent_counts)"
      ],
      "metadata": {
        "colab": {
          "base_uri": "https://localhost:8080/"
        },
        "id": "XbAMcX-bPW6h",
        "outputId": "4049283d-2790-4c57-bd0d-e894b68f73ac"
      },
      "execution_count": 49,
      "outputs": [
        {
          "output_type": "stream",
          "name": "stdout",
          "text": [
            "Sigma: \n",
            " [[-1 -1]\n",
            " [-1  0]\n",
            " [ 0 -1]\n",
            " [ 0  0]]\n",
            "n = 4\n",
            "Iterating through signed permutations...\n",
            "...completed 384 iterations through signed permutations.\n",
            "Descent Counts: \n",
            "\n",
            "0: 16\n",
            "1: 176\n",
            "2: 176\n",
            "3: 16\n"
          ]
        }
      ]
    },
    {
      "cell_type": "code",
      "source": [
        "Sigma = np.array([[-1,-1,0],[-1,0,-1],[0,-1,-1],[0,0,0]])\n",
        "print('Sigma: \\n', Sigma)\n",
        "\n",
        "message = f'Incidence matric corresponding to graph in 4d'\n",
        "descent_counts = calculate_descent_counts(Sigma, print_output=False, title=message)\n",
        "print('Descent Counts: \\n')\n",
        "print_sorted_dict(descent_counts)"
      ],
      "metadata": {
        "colab": {
          "base_uri": "https://localhost:8080/"
        },
        "id": "dDykIYo6PrUH",
        "outputId": "6c0b834a-7c9d-4771-cab8-b9d5f659f82e"
      },
      "execution_count": 50,
      "outputs": [
        {
          "output_type": "stream",
          "name": "stdout",
          "text": [
            "Sigma: \n",
            " [[-1 -1  0]\n",
            " [-1  0 -1]\n",
            " [ 0 -1 -1]\n",
            " [ 0  0  0]]\n",
            "n = 4\n",
            "Iterating through signed permutations...\n",
            "...completed 384 iterations through signed permutations.\n",
            "Descent Counts: \n",
            "\n",
            "0: 16\n",
            "1: 128\n",
            "2: 96\n",
            "3: 128\n",
            "4: 16\n"
          ]
        }
      ]
    },
    {
      "cell_type": "code",
      "source": [
        "Sigma = np.array([[-1,-1,0,0],[1,0,1,1],[0,0,-1,0],[0,-1,0,1]])\n",
        "print('Sigma: \\n', Sigma)\n",
        "\n",
        "message = f'Incidence matric corresponding to graph in 5a'\n",
        "descent_counts = calculate_descent_counts(Sigma, print_output=False, title=message)\n",
        "print('Descent Counts: \\n')\n",
        "print_sorted_dict(descent_counts)"
      ],
      "metadata": {
        "colab": {
          "base_uri": "https://localhost:8080/"
        },
        "id": "CvGhxqvhP0UZ",
        "outputId": "b6059235-7921-4600-f9ba-351c8ede3905"
      },
      "execution_count": 51,
      "outputs": [
        {
          "output_type": "stream",
          "name": "stdout",
          "text": [
            "Sigma: \n",
            " [[-1 -1  0  0]\n",
            " [ 1  0  1  1]\n",
            " [ 0  0 -1  0]\n",
            " [ 0 -1  0  1]]\n",
            "n = 4\n",
            "Iterating through signed permutations...\n",
            "...completed 384 iterations through signed permutations.\n",
            "Descent Counts: \n",
            "\n",
            "0: 7\n",
            "1: 75\n",
            "2: 110\n",
            "3: 110\n",
            "4: 75\n",
            "5: 7\n"
          ]
        }
      ]
    },
    {
      "cell_type": "code",
      "source": [
        "Sigma = np.array([[-1,-1,0,0,-1],[1,0,1,1,0],[0,0,-1,0,-1],[0,-1,0,1,0]])\n",
        "print('Sigma: \\n', Sigma)\n",
        "\n",
        "message = f'Incidence matric corresponding to graph in 5b'\n",
        "descent_counts = calculate_descent_counts(Sigma, print_output=False, title=message)\n",
        "print('Descent Counts: \\n')\n",
        "print_sorted_dict(descent_counts)"
      ],
      "metadata": {
        "colab": {
          "base_uri": "https://localhost:8080/"
        },
        "id": "3X6Ptd_v_00Z",
        "outputId": "c5cf87f6-ac4a-4143-92ac-d13513b424ca"
      },
      "execution_count": 52,
      "outputs": [
        {
          "output_type": "stream",
          "name": "stdout",
          "text": [
            "Sigma: \n",
            " [[-1 -1  0  0 -1]\n",
            " [ 1  0  1  1  0]\n",
            " [ 0  0 -1  0 -1]\n",
            " [ 0 -1  0  1  0]]\n",
            "n = 4\n",
            "Iterating through signed permutations...\n",
            "...completed 384 iterations through signed permutations.\n",
            "Descent Counts: \n",
            "\n",
            "0: 3\n",
            "1: 54\n",
            "2: 93\n",
            "3: 84\n",
            "4: 93\n",
            "5: 54\n",
            "6: 3\n"
          ]
        }
      ]
    }
  ]
}